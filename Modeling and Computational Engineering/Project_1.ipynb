{
 "cells": [
  {
   "cell_type": "markdown",
   "id": "b6d18ba3",
   "metadata": {
    "editable": true
   },
   "source": [
    "<!-- dom:TITLE: Automatic for the people -->\n",
    "# Automatic for the people\n",
    "**MOD510: Mandatory project 1**  \n",
    "**Deadline: 16. September 2024 (23:59)**\n",
    "Date: **Sept. 4, 2024**\n",
    "\n",
    "Authors:  \n",
    "*Dea Lana Asri*  \n",
    "*Sander Øydal Sterri*  \n",
    "*Urszula Maria Starowicz*  \n",
    "\n",
    "**Abstract** \n",
    "\n",
    "Numerical errors, such as round-off and truncation errors, must always be considered when doing numerical calculations in Python. Apart from discussing how to deal with these errors, different NumPy functions are explored to give a deeper understanding of how calculations can be simplified and sped up compared to lists. A focus is also placed on writing clean code, by introducing functions and classes and how to implement numerical algorithms such as 'FancyWavePacket'. FancyWavePacket is a class which contains several functions that calculate the analytical derivative, forward difference, central difference and plots the result, such as the absolute error between the numerical and analytical solution. Automatic differentation, on the other hand, is an alternative method of evaluating a derivative by creating a 'Duple Class' containing sets of basic operations such as: addition, subtraction, multiplication and division. \n",
    "\n",
    "<!-- The numerical errors, such as round-off and truncation errors, must always be considered when working with Python programming language. Apart from discussing ways how to deal with them, there will be also touched the issue of efficiency by using NumPy arrays instead of list and writing a clean code. That is coming down to execises explaining usages of classes in code and their implementations of numerical algorithms such as FancyWavePacket. FancyWavePacket class contains of several function that calculate the analytical derivative, forward difference, central difference and plot the results. Finally, trying out the posiblities of object oriented programming used to evaluate derivative using Automatic Differentiation method by creating Duple Class containing sets of basic operations (addition, substraction, multiplication, and division). -->\n"
   ]
  },
  {
   "cell_type": "markdown",
   "id": "5dd5ab10",
   "metadata": {},
   "source": [
    "**Introduction**\n",
    "\n",
    "This notebook begins with a short recollection of computations equations used in computers. According to the IEEE 754-1985 standard, most important parameters were provided with definitions. Moreover, the required ones were deeply explained and included with the equations and code snippet for a better understanding of the issue, which is round-off errors and truncation errors that may occur using Python language. This is discussed and clarified later on with examples of addition and comparison of two float numbers.  \n",
    "\n",
    "The second exercise of this project is focused on the Python library NumPy, which is widely used for many simple and complex calculations. Firstly, the task's topic was about the differences between using computation functions on NumPy arrays and innate Python lists. Having run the same code for np.arrays and lists, occurring errors were explained and corrected for each one. Knowing the characteristics of both, in the next step basic and more advanced functionalities of the NumPy array were explored and practiced. Thanks to them, the authors were familiarised with:  \n",
    "* creating boolean masks,  \n",
    "* setting criteria for filtering values,  \n",
    "* understanding and using logic in comparing np.arrays.  \n",
    "  \n",
    "Exercise 3 is devided into two topics. Part I is all about derivatives. In this exercise, the objective is to calculate the derivative of a function both analytically and numerically. This is done by using python functions. The solutions can be used to calculate the error as well as the step size 'h' which correlates to the lowest error. Lastly, by making a scatter plot, the absolute error against the step size 'h' can be visualized.  \n",
    "\n",
    "Part II of the 3rd exercise is about classes. In this exercise, the goal is to create a class with functions that use the forward/central difference method to calculate the numerical solutions. The numerical solutions can then be compared to the analytical solution to find the absolute error and the step size 'h' which correlates to the smallest error. Lastly, as in part I, the absolute error against the step size 'h' can be visualized by creating a scatter plot.\n",
    "  \n",
    "The end of the project is about challenges occuring when calculating the derivation of a function with numerical differentiation. They can cause the code to be slow and inaccurate due to round-off errors. Wengert, in 1964 [[Wengert, 1964]](#wengert1964simple), proposed a technique called Automatic Differentiation (AD). The calculation of the given \"complex\" expression is decomposed using the chain rule, and the derivative is calculated by evaluating the expression and its derivative at the same time. The main feature of this approch is the simplicity it offers.\n",
    "\n",
    "For example, to compute $f'$ where\n",
    "\\begin{equation*}\n",
    "f = \\frac{x_1}{x_2^2 x_3}\n",
    "\\end{equation*}\n",
    "using AD, first the function should be decomposed into elementary operations of power, multiplication, and division. By doing these subroutines, the derivative of function $f$ can be calculated indirectly. The higher order functions are also treated in the exactly same manner.\n",
    "\n",
    "To implement AD in python, we use a vector of size 2 to store the function value and its derivative. The vector is defined as:\n",
    "\n",
    "\n",
    "$$\\begin{pmatrix}\n",
    "f(x) \\\\ f^\\prime(x)\n",
    "\\end{pmatrix}\\hspace{35pt}\\text{(10)}$$\n",
    "\n",
    "Then, using object oriented programming for the class of vector above, sets of fixed operations (addition, substraction, multiplication, and division) is applied. Combining it with elementary functions such as $\\sin, \\log, \\exp$, the derivative of any complex functions could be evaluated."
   ]
  },
  {
   "cell_type": "code",
   "execution_count": 1,
   "id": "1f5be4a9",
   "metadata": {},
   "outputs": [],
   "source": [
    "#Import all necessary libraries\n",
    "import numpy as np\n",
    "import matplotlib.pyplot as plt"
   ]
  },
  {
   "cell_type": "markdown",
   "id": "a039eb09",
   "metadata": {
    "editable": true
   },
   "source": [
    "<!-- ======= Introduction   ======= -->\n",
    "\n",
    "\n",
    "\n",
    "# Exercise 1: Finite-precision arithmetic\n",
    "<div id=\"ex:round_err\"></div>\n",
    "\n",
    "**Part 1.**\n",
    "\n",
    "Run the following code snippet:"
   ]
  },
  {
   "cell_type": "code",
   "execution_count": 2,
   "id": "1015ecab",
   "metadata": {
    "collapsed": false,
    "editable": true
   },
   "outputs": [
    {
     "data": {
      "text/plain": [
       "sys.float_info(max=1.7976931348623157e+308, max_exp=1024, max_10_exp=308, min=2.2250738585072014e-308, min_exp=-1021, min_10_exp=-307, dig=15, mant_dig=53, epsilon=2.220446049250313e-16, radix=2, rounds=1)"
      ]
     },
     "execution_count": 2,
     "metadata": {},
     "output_type": "execute_result"
    }
   ],
   "source": [
    "import sys\n",
    "sys.float_info"
   ]
  },
  {
   "cell_type": "markdown",
   "id": "f90cc983",
   "metadata": {
    "editable": true
   },
   "source": [
    "* Explain the meaning of the numbers that are printed out.\n",
    "\n",
    "Hint: Read the lecture material on the IEEE Standard for floating-point arithmetic.\n",
    " \n",
    "\n",
    "sys.float_inf describes the float representation in the system based on IEEE 754-1985 standard. According to the [Python Documentation of sys](https://docs.python.org/3/library/sys.html), the following attributes are defined:\n",
    "\n",
    "\n",
    "|    Parameter    |    Description    |\n",
    "|:---------------|:------------------|\n",
    "| **max**         | Highest positive finite number that can be represented by the system        |\n",
    "| **max_exp**     | Maximum exponent in binary basis that can be represented by the system      |\n",
    "| **max_10_exp**  | Maximum exponent in 10-digit basis that can be represented by the system    |\n",
    "| **min_exp**     | Minimum exponent in binary basis that can be represented by the system      |\n",
    "| **min_10_exp**  | Minimum exponent in 10-digit basis that can be represented by the system    |\n",
    "| **dig**         | Maximum number of decimal digits that can be represented                    |\n",
    "| **mant_dig**    | Mantissa digit, or the float precision                                      |\n",
    "| **epsilon**     | Least value, so that $1.0 + \\epsilon$ is not representable as a float 1.0   |\n",
    "| **radix**       | The radix of exponent representation                                        |\n",
    "| **rounds**      | Integer that represents the rounding mode for float, rounds=1 means that <br> the rounding-off for the float in the system is \"to the nearest\" |\n",
    "\n"
   ]
  },
  {
   "cell_type": "markdown",
   "id": "c468d5ae",
   "metadata": {
    "editable": true
   },
   "source": [
    "**Part 2.**\n",
    "\n",
    "* Show how you can calculate the printed-out values `max`, `min`, `epsilon` yourself (again, based on the IEEE standard).\n",
    "\n",
    "Based on the IEEE 754-1985 standard, the float representation in a 64-bit system consists of 1 bit for the sign, 11 bits for the exponent, and 52 bits for the fraction. The exponent can be positive to represent a value greater than 1 or negative to represent a value less than 1.  \n",
    "According to Hiorth [[4]](#hiorth), the calculation of Maximum, Minimum and Epsilon can be calculated by using float representation denoted as:\n",
    "\n",
    "$$ \\pm q \\times 2^{E - e} $$\n",
    "\n",
    "The number of bias, \\( e \\), is fixed. In a 64-bit system, \\( e = 1023 \\).\n",
    "\n",
    "The value of the exponent is represented by 11 bits, so it can take values from \\( 0 \\) to \\( 2^{11} - 1 = 2047 \\). The values \\( E = 0 \\) and \\( E = 2047 \\) are reserved for special numbers, which are negative infinity and infinity, respectively.\n",
    "\n",
    "---\n",
    "\n",
    "**Calculate Maximum Value:**\n",
    "\n",
    "The maximum value is when all the bits in the fraction are 1s, so:\n",
    "\n",
    "$$ 1.1111\\ldots \\text{(52 ones)} \\times 2^{1023} $$\n",
    "\n",
    "This equals:\n",
    "\n",
    "$$ (2 - 2^{-52}) \\times 2^{1023} = (2^{1024} - 2^{971}) $$\n",
    "\n",
    "Thus, the maximum value is approximately:\n",
    "\n",
    "$$ 1.7976931348623157 \\times 10^{308} $$\n",
    "\n",
    "---\n",
    "\n",
    "**Calculate Minimum Value:**\n",
    "\n",
    "The minimum normalized positive value occurs when the exponent is at its smallest (1) and the fraction is all 0s:\n",
    "\n",
    "$$ 1.0000\\ldots \\times 2^{-1022} = 2^{-1022} $$\n",
    "\n",
    "Thus, the minimum normalized value is:\n",
    "\n",
    "$$ 2.2250738585072014 \\times 10^{-308} $$\n",
    "\n",
    "---\n",
    "\n",
    "**Calculate Epsilon:**\n",
    "\n",
    "Epsilon is the smallest value that, when added to 1, produces a result different from 1 in the floating-point system. It is defined as:\n",
    "\n",
    "$$ \\epsilon = 2^{-52} \\times 2^0 = 2^{-52} $$\n",
    "\n",
    "Thus, the value of epsilon is approximately:\n",
    "\n",
    "$$ 2.220446049250313 \\times 10^{-16} $$\n"
   ]
  },
  {
   "cell_type": "code",
   "execution_count": 3,
   "id": "18a71633",
   "metadata": {},
   "outputs": [
    {
     "name": "stdout",
     "output_type": "stream",
     "text": [
      "Calculated max value: 1.7976931348623157e+308\n",
      "Calculated min value: 2.2250738585072014e-308\n",
      "Calculated epsilon value: 2.220446049250313e-16\n"
     ]
    }
   ],
   "source": [
    "max_value = (2 - 2**-52) * 2**1023\n",
    "print(f\"Calculated max value: {max_value}\")\n",
    "min_value = 2**-1022\n",
    "print(f\"Calculated min value: {min_value}\")\n",
    "epsilon_value = 2**-52\n",
    "print(f\"Calculated epsilon value: {epsilon_value}\")"
   ]
  },
  {
   "cell_type": "markdown",
   "id": "0c2f274d",
   "metadata": {
    "editable": true
   },
   "source": [
    "**Part 3.**\n",
    "\n",
    "In Python, typing `0.1+0.2` does not (typically) produce the same output as `0.3`.\n",
    "\n",
    "* Why not?\n",
    "\n",
    "Because the computer can not represent float 0.2 exactly. Rather it represent something close to 0.2. Hence, 0.1+0.2 is not the same as 0.3."
   ]
  },
  {
   "cell_type": "markdown",
   "id": "44ce2d43",
   "metadata": {
    "editable": true
   },
   "source": [
    "**Part 4.**\n",
    "\n",
    "* Would you use the `==`-operator to test whether two floating-point numbers are equal?\n",
    "\n",
    "No, because of the floating point representation. As explained in Part 3, since 0.1+0.2 is not equal to 0.3, it's not a good idea to use the '$==$' operator to check whether two floating-point numbers are equal.  \n",
    "\n",
    "* Why / why not? Can you think of alternative ways to do floating-point number comparison?  \n",
    "\n",
    "Because of rounding off errors, it's better to check whether $|a-b| < \\epsilon$. If $|a-b| < \\epsilon$ and $\\epsilon$ has a low value, then $a ≈ b$.\n",
    "\n",
    "\n"
   ]
  },
  {
   "cell_type": "markdown",
   "id": "a82fdf30",
   "metadata": {},
   "source": [
    "\n",
    "# Exercise 2: Get up to speed with NumPy\n",
    "<div id=\"exer:numpy\"></div>\n",
    "\n",
    "The purpose of this exercise is to learn a little bit about\n",
    "[NumPy](https://numpy.org/), which is an incredibly useful Python library.\n",
    "A major reason for its popularity is efficiency: doing computations with NumPy\n",
    "arrays (objects of the type `ndarray`) instead of using native Python lists (vanilla Python) can,\n",
    "by itself, speed up a program by several orders of magnitude!\n",
    "The mechanism for speed-up is [vectorized computation](https://www.oreilly.com/library/view/python-for-data/9781449323592/ch04.html).\n",
    "\n",
    "**Vectorized functions.**\n",
    "\n",
    "Using NumPy arrays allows you to create vectorized functions; functions that\n",
    "operate on a whole array at once, rather than looping over the elements\n",
    "one-by-one inside a custom written loop.\n",
    "\n",
    "The way vectorization works behind the scenes is still via loops\n",
    "(optimized, pre-compiled C code), but as Python programmer you do not need\n",
    "to worry about the details.\n",
    "\n",
    "\n",
    "\n",
    "**Part 1.**\n",
    "\n",
    "The following code block gives an example of a vectorized function:"
   ]
  },
  {
   "cell_type": "code",
   "execution_count": 4,
   "id": "e7839c66",
   "metadata": {
    "collapsed": false,
    "editable": true
   },
   "outputs": [
    {
     "data": {
      "text/plain": [
       "array([1.        , 0.89483932, 0.8007374 , 0.71653131, 0.64118039,\n",
       "       0.57375342, 0.51341712, 0.45942582, 0.41111229, 0.36787944])"
      ]
     },
     "execution_count": 4,
     "metadata": {},
     "output_type": "execute_result"
    }
   ],
   "source": [
    "x = np.linspace(0, 1, 10)\n",
    "np.exp(x)  # Apply f(t)=exp(t) to each element in the array x.\n",
    "np.exp(-x)  # Apply the function f(t)=exp(-t) to each element of x."
   ]
  },
  {
   "cell_type": "markdown",
   "id": "a19024b4",
   "metadata": {},
   "source": [
    "Notice the usage of `np.exp` instead of using the exponential function provided\n",
    "in the built-in [math](https://docs.python.org/3/library/math.html)\n",
    "library; this is an example of a\n",
    "[universal function](https://docs.scipy.org/doc/numpy/reference/ufuncs.html).\n",
    "\n",
    "* Create a native Python list of the same size as `x` and holding the same values. Apply the same two function calls to this list, i.e. `np.exp(x)` and `np.exp(-x)`. Explain what happens.\n",
    "\n"
   ]
  },
  {
   "cell_type": "code",
   "execution_count": 5,
   "id": "b845ccb3",
   "metadata": {},
   "outputs": [
    {
     "name": "stdout",
     "output_type": "stream",
     "text": [
      "[np.float64(0.0), np.float64(0.1111111111111111), np.float64(0.2222222222222222), np.float64(0.3333333333333333), np.float64(0.4444444444444444), np.float64(0.5555555555555556), np.float64(0.6666666666666666), np.float64(0.7777777777777777), np.float64(0.8888888888888888), np.float64(1.0)]\n",
      "[1.         1.11751907 1.24884887 1.39561243 1.5596235  1.742909\n",
      " 1.94773404 2.17662993 2.43242545 2.71828183]\n"
     ]
    }
   ],
   "source": [
    "x_list = list(np.linspace(0, 1, 10))\n",
    "print(x_list)\n",
    "print(np.exp(x_list))\n",
    "\n",
    "# np.exp(-x_list)"
   ]
  },
  {
   "cell_type": "markdown",
   "id": "78b460ea",
   "metadata": {},
   "source": [
    "This line: *np.exp(-x_list)* gives back this error:  \n",
    "TypeError                     Traceback (most recent call last)  \n",
    "Cell In[6], line 4  \n",
    "      2 print(x_list)  \n",
    "      3 np.exp(x_list)  \n",
    "----> 4 np.exp(-x_list)  \n",
    "\n",
    "TypeError: bad operand type for unary -: 'list'"
   ]
  },
  {
   "cell_type": "markdown",
   "id": "fa12dc98",
   "metadata": {},
   "source": [
    "* How would you generally evaluate a function on all elements of a native Python list? (as opposed to a NumPy array)\n",
    "\n",
    "After using '-' directly with python lists, that are meant to be containers - not vectors, we got TypeError. This happened because python does not support mathematical operations on lists, because lists, contrary to NumPy arrays, are not designed for numerical computations.\n",
    "To change every value to a negative in the list, it has to be done in iterations for every element in the list."
   ]
  },
  {
   "cell_type": "code",
   "execution_count": 6,
   "id": "b075931f",
   "metadata": {},
   "outputs": [
    {
     "data": {
      "text/plain": [
       "array([1.        , 0.89483932, 0.8007374 , 0.71653131, 0.64118039,\n",
       "       0.57375342, 0.51341712, 0.45942582, 0.41111229, 0.36787944])"
      ]
     },
     "execution_count": 6,
     "metadata": {},
     "output_type": "execute_result"
    }
   ],
   "source": [
    "x_list_minus = [-i for i in x_list]\n",
    "np.exp(x_list_minus)"
   ]
  },
  {
   "cell_type": "markdown",
   "id": "3ddcc8ed",
   "metadata": {},
   "source": [
    "**Part 2.**\n",
    "\n",
    "As already hinted at, the NumPy library comes with a plethora of useful\n",
    "features and functions. The code snippets below show some examples:\n",
    "\n",
    "* Explain what each line of code does.\n",
    "\n",
    "* How would you produce the same output using native Python lists?"
   ]
  },
  {
   "cell_type": "code",
   "execution_count": 7,
   "id": "a04d88f6",
   "metadata": {
    "collapsed": false,
    "editable": true
   },
   "outputs": [
    {
     "data": {
      "text/plain": [
       "array([0., 0., 0., 0., 0., 0., 0., 0., 0., 0., 0., 0., 0., 0., 0., 0., 0.,\n",
       "       0., 0., 0.])"
      ]
     },
     "execution_count": 7,
     "metadata": {},
     "output_type": "execute_result"
    }
   ],
   "source": [
    "np.zeros(20)"
   ]
  },
  {
   "cell_type": "markdown",
   "id": "31aa9cad",
   "metadata": {},
   "source": [
    "It creats NumPy array with twenty numers 0. It can be done in native python lists this way:"
   ]
  },
  {
   "cell_type": "code",
   "execution_count": 8,
   "id": "eea9f83f",
   "metadata": {},
   "outputs": [
    {
     "name": "stdout",
     "output_type": "stream",
     "text": [
      "[0, 0, 0, 0, 0, 0, 0, 0, 0, 0, 0, 0, 0, 0, 0, 0, 0, 0, 0, 0]\n"
     ]
    }
   ],
   "source": [
    "zeros_list = [0] * 20\n",
    "print(zeros_list)"
   ]
  },
  {
   "cell_type": "code",
   "execution_count": 9,
   "id": "0bebbde9",
   "metadata": {
    "collapsed": false,
    "editable": true
   },
   "outputs": [
    {
     "data": {
      "text/plain": [
       "array([1., 1., 1., 1., 1., 1., 1., 1., 1., 1., 1., 1., 1., 1., 1., 1., 1.,\n",
       "       1., 1., 1.])"
      ]
     },
     "execution_count": 9,
     "metadata": {},
     "output_type": "execute_result"
    }
   ],
   "source": [
    "np.ones(20)"
   ]
  },
  {
   "cell_type": "markdown",
   "id": "7e3a2ff0",
   "metadata": {},
   "source": [
    "This function creat NumPy array with twenty numbers 1. To do it using python lists you can use for loop:"
   ]
  },
  {
   "cell_type": "code",
   "execution_count": 10,
   "id": "b8004a2a",
   "metadata": {},
   "outputs": [
    {
     "name": "stdout",
     "output_type": "stream",
     "text": [
      "[1, 1, 1, 1, 1, 1, 1, 1, 1, 1, 1, 1, 1, 1, 1, 1, 1, 1, 1, 1]\n"
     ]
    }
   ],
   "source": [
    "ones_list = [1 for _ in range(20)]\n",
    "print(ones_list)"
   ]
  },
  {
   "cell_type": "code",
   "execution_count": 11,
   "id": "500851a1",
   "metadata": {
    "collapsed": false,
    "editable": true
   },
   "outputs": [
    {
     "data": {
      "text/plain": [
       "array([ 0.,  1.,  2.,  3.,  4.,  5.,  6.,  7.,  8.,  9., 10.])"
      ]
     },
     "execution_count": 11,
     "metadata": {},
     "output_type": "execute_result"
    }
   ],
   "source": [
    "np.linspace(0, 10, 11)"
   ]
  },
  {
   "cell_type": "markdown",
   "id": "27100621",
   "metadata": {},
   "source": [
    "This line create numpy array with minimum value/starting point at 0 and ends at 10 and consist 11 elements. Space between 0 an 10 is split equaly in 11 values."
   ]
  },
  {
   "cell_type": "code",
   "execution_count": 12,
   "id": "7ab9a142",
   "metadata": {},
   "outputs": [
    {
     "name": "stdout",
     "output_type": "stream",
     "text": [
      "[0.0, 1.0, 2.0, 3.0, 4.0, 5.0, 6.0, 7.0, 8.0, 9.0, 10.0]\n"
     ]
    }
   ],
   "source": [
    "start = 0\n",
    "stop = 10\n",
    "num = 11\n",
    "step = (stop - start) / (num - 1)\n",
    "Lin_list = [start + i * step for i in range(num)]\n",
    "print(Lin_list)"
   ]
  },
  {
   "cell_type": "code",
   "execution_count": 13,
   "id": "801bcae3",
   "metadata": {
    "collapsed": false,
    "editable": true
   },
   "outputs": [
    {
     "data": {
      "text/plain": [
       "array([0.        , 0.90909091, 1.81818182, 2.72727273, 3.63636364,\n",
       "       4.54545455, 5.45454545, 6.36363636, 7.27272727, 8.18181818,\n",
       "       9.09090909])"
      ]
     },
     "execution_count": 13,
     "metadata": {},
     "output_type": "execute_result"
    }
   ],
   "source": [
    "np.linspace(0, 10, 11, endpoint=False)"
   ]
  },
  {
   "cell_type": "markdown",
   "id": "55dda848",
   "metadata": {},
   "source": [
    "It creates a NumPy array with 11 evenly spaced values starting from 0 up to but without 10 - end point. To do it using lists, this code can be used:"
   ]
  },
  {
   "cell_type": "code",
   "execution_count": 14,
   "id": "dfbf07a3",
   "metadata": {},
   "outputs": [
    {
     "name": "stdout",
     "output_type": "stream",
     "text": [
      "[0.0, 0.9090909090909091, 1.8181818181818181, 2.727272727272727, 3.6363636363636362, 4.545454545454545, 5.454545454545454, 6.363636363636363, 7.2727272727272725, 8.181818181818182, 9.09090909090909]\n"
     ]
    }
   ],
   "source": [
    "start = 0\n",
    "stop = 10\n",
    "num = 11\n",
    "step = (stop - start) / num\n",
    "Lin_list_without_end = [start + i * step for i in range(num)]\n",
    "print(Lin_list_without_end)"
   ]
  },
  {
   "cell_type": "code",
   "execution_count": 15,
   "id": "5d48a0ae",
   "metadata": {
    "collapsed": false,
    "editable": true
   },
   "outputs": [
    {
     "data": {
      "text/plain": [
       "array([ 2,  4,  6,  8, 10])"
      ]
     },
     "execution_count": 15,
     "metadata": {},
     "output_type": "execute_result"
    }
   ],
   "source": [
    "vector = np.arange(5) + 1\n",
    "2*vector\n"
   ]
  },
  {
   "cell_type": "markdown",
   "id": "1b769d98",
   "metadata": {},
   "source": [
    "* np.arange(5) - creats a NumPy array of integers from 0 to 4.\n",
    "* np.arange(5) + 1 - adds 1 to each element in the array.\n",
    "* 2 * (np.arange(5) + 1) - multiplies each element in the array by 2  \n",
    "To do the same using lists, you can use this code:"
   ]
  },
  {
   "cell_type": "code",
   "execution_count": 16,
   "id": "c7158246",
   "metadata": {},
   "outputs": [
    {
     "name": "stdout",
     "output_type": "stream",
     "text": [
      "[2, 4, 6, 8, 10]\n"
     ]
    }
   ],
   "source": [
    "vector_l = [i + 1 for i in range(5)]\n",
    "result = [2 * x for x in vector_l]\n",
    "print(result)"
   ]
  },
  {
   "cell_type": "markdown",
   "id": "faba97da",
   "metadata": {
    "editable": true
   },
   "source": [
    "**Part 3.**\n",
    "\n",
    "Frequently you will want to extract a subset of values from an array based\n",
    "on some kind of criterion. For example, you might want to count the number\n",
    "of non-zero numbers, or identify all values exceeding a certain threshold.\n",
    "With NumPy, suchs tasks are easily achieved using\n",
    "[boolean masking](https://jakevdp.github.io/PythonDataScienceHandbook/02.06-boolean-arrays-and-masks.html), e.g.:"
   ]
  },
  {
   "cell_type": "code",
   "execution_count": 17,
   "id": "c869d884",
   "metadata": {
    "collapsed": false,
    "editable": true
   },
   "outputs": [
    {
     "name": "stdout",
     "output_type": "stream",
     "text": [
      "There are 7 non-zero numbers in the array.\n"
     ]
    }
   ],
   "source": [
    "array_of_numbers = np.array([4, 8, 15, 16, 23, 42,0,5])\n",
    "nnz = np.count_nonzero(array_of_numbers)\n",
    "print(f'There are {nnz} non-zero numbers in the array.')\n",
    "is_even = (array_of_numbers % 2 == 0)\n",
    "is_greater_than_17 = (array_of_numbers > 17)\n",
    "is_even_and_greater_than_17 = is_even & is_greater_than_17"
   ]
  },
  {
   "cell_type": "markdown",
   "id": "5b200ecc",
   "metadata": {
    "editable": true
   },
   "source": [
    "However, neither of the following codes lines will execute:"
   ]
  },
  {
   "cell_type": "code",
   "execution_count": 18,
   "id": "6e9de298",
   "metadata": {
    "collapsed": false,
    "editable": true
   },
   "outputs": [],
   "source": [
    "# is_even_and_greater_than_17 = is_even and is_greater_than_17\n",
    "# print(array_of_numbers % 2 == 0 & array_of_numbers > 17)"
   ]
  },
  {
   "cell_type": "markdown",
   "id": "076ee492",
   "metadata": {},
   "source": [
    "Code above gives back this error:\n",
    "\n",
    "ValueError                    Traceback (most recent call last)  \n",
    "Cell In[18], line 1  \n",
    "----> 1 is_even_and_greater_than_17 = is_even and is_greater_than_17  \n",
    "    2 print(array_of_numbers % 2 == 0 & array_of_numbers > 17)  \n",
    "\n",
    "ValueError: The truth value of an array with more than one element is ambiguous. Use a.any() or a.all()  "
   ]
  },
  {
   "cell_type": "markdown",
   "id": "54c53696",
   "metadata": {},
   "source": [
    "* Explain why this code fails.\n",
    "\n",
    "* Use [`np.logical_and`](https://numpy.org/doc/stable/reference/generated/numpy.logical_and.html) to make the code work \n",
    "\n",
    "'And' is used for logical operations between single boolean values, not operations between NumPy arrays. Since NumPy arrays are not single boolean values, this results in a ValueError.  \n",
    "\n",
    "Due to operator precedence, code works this way: *array_of_numbers % (2 == 0) & array_of_numbers > 17*. And statement 2==0 will give *false* value, which is in Python 0, so we will get *array_of_numbers % 0*. This operation is problematic because division by zero is undefined and will either result in an error or unexpected behavior.  \n",
    "\n",
    "To fix these issues, we can use np.logical_and as shown below:"
   ]
  },
  {
   "cell_type": "code",
   "execution_count": 19,
   "id": "e4af94ec",
   "metadata": {},
   "outputs": [
    {
     "name": "stdout",
     "output_type": "stream",
     "text": [
      "[False False False False False  True False False]\n",
      "[False False False False False  True False False]\n"
     ]
    }
   ],
   "source": [
    "is_even_and_greater_than_17 = np.logical_and(is_even, is_greater_than_17)\n",
    "print(is_even_and_greater_than_17)\n",
    "print(np.logical_and(array_of_numbers % 2 == 0, array_of_numbers > 17))"
   ]
  },
  {
   "cell_type": "markdown",
   "id": "57c28a0f",
   "metadata": {
    "editable": true
   },
   "source": [
    "**Part 4.**\n",
    "\n",
    "The function [np.where](https://numpy.org/doc/stable/reference/generated/numpy.where.html)\n",
    "can also be used to select elements from an array.\n",
    "\n",
    "* Explain the output of the following two lines of code:"
   ]
  },
  {
   "cell_type": "code",
   "execution_count": 20,
   "id": "d72ff5f6",
   "metadata": {
    "collapsed": false,
    "editable": true
   },
   "outputs": [
    {
     "data": {
      "text/plain": [
       "array([4, 5])"
      ]
     },
     "execution_count": 20,
     "metadata": {},
     "output_type": "execute_result"
    }
   ],
   "source": [
    "np.where(array_of_numbers > 17)[0]"
   ]
  },
  {
   "cell_type": "markdown",
   "id": "d807017b",
   "metadata": {},
   "source": [
    "*array_of_numbers > 17* - will create vector of boolean values with true in places where number is bigger than 17  \n",
    "*np.where* - will show id in vector of true values  \n",
    "*dtype=int64* - shows that the data type of the elements in the array are 64-bit integers"
   ]
  },
  {
   "cell_type": "code",
   "execution_count": 21,
   "id": "4b6a96cc",
   "metadata": {
    "collapsed": false,
    "editable": true
   },
   "outputs": [
    {
     "data": {
      "text/plain": [
       "array([0, 0, 0, 0, 1, 1, 0, 0])"
      ]
     },
     "execution_count": 21,
     "metadata": {},
     "output_type": "execute_result"
    }
   ],
   "source": [
    "np.where(array_of_numbers > 17, 1, 0)"
   ]
  },
  {
   "cell_type": "markdown",
   "id": "b3098d87",
   "metadata": {},
   "source": [
    "*np.where(condition, x, y)*  \n",
    "* x - what to insert in true values\n",
    "* y - what to insert in false values  \n",
    "So in this code we are asserting true values for numbers in vector bigger than 17 and then changes true values for 1 and false for 0."
   ]
  },
  {
   "cell_type": "markdown",
   "id": "dccdb09f",
   "metadata": {
    "editable": true
   },
   "source": [
    "# Exercise 3, Part I: Finite Differences (FD) with Functions\n",
    "\n",
    "In scientific computing one often needs to calculate derivatives of functions.\n",
    "For problems encountered in practice, exact formulas may not be available,\n",
    "in which case numerical estimates are needed. However, to evaluate the\n",
    "correctness of our programmed numerical methods, it is still a very good idea\n",
    "to test the code on simple functions where the derivative is known.\n",
    "\n",
    "In this exercise, we consider a function that is relevant for describing wave\n",
    "phenomena:"
   ]
  },
  {
   "cell_type": "markdown",
   "id": "d371d6ce",
   "metadata": {
    "editable": true
   },
   "source": [
    "$$f(x) = \\sin(bx)\\cdot e^{-ax^2}\\hspace{35pt}\\text{(1)}$$"
   ]
  },
  {
   "cell_type": "markdown",
   "id": "2b16af8a",
   "metadata": {
    "editable": true
   },
   "source": [
    "One way to implement the [function in Python](https://realpython.com/defining-your-own-python-function/) is:"
   ]
  },
  {
   "cell_type": "code",
   "execution_count": 22,
   "id": "b4e321a7",
   "metadata": {
    "collapsed": false,
    "editable": true
   },
   "outputs": [],
   "source": [
    "def f(x, a=0.1, b=10):\n",
    "    return np.sin(b*x)*np.exp(-a*x*x)"
   ]
  },
  {
   "cell_type": "markdown",
   "id": "6756702e",
   "metadata": {
    "editable": true
   },
   "source": [
    "We have chosen to define `a` and `b` as *default arguments*, which allows us to evaluate the function at $x=1$ by simply typing `f(1)`;\n",
    "this is equivalent to the command `f(1, 0.1, 10)`. If you want to change the `b` parameter, you can do, e.g., `f(1, b=2)`.\n",
    "Note also that the function works both when `x` is a single number *and* when it is a Numpy array. This is because we use the Numpy versions of the sine (`np.sin`) and exponential (`np.exp`) functions.\n",
    "\n",
    "**Python functions are first-class!**\n",
    "\n",
    "An important feature of Python is that functions are\n",
    "[first-class objects](https://en.wikipedia.org/wiki/First-class_function),\n",
    "meaning that you can assign them to variables, you can store them inside\n",
    "various containers and data structures, they can be passed as input arguments\n",
    "to other functions, and they may be return values of other functions.\n",
    "\n",
    "\n",
    "\n",
    "We will exploit this property of Python several times during this project.\n",
    "\n",
    "**Part 1.**\n",
    "\n",
    "It is always a good idea to start by visualizing the function in a plot.\n",
    "\n",
    "* Make a Python function that plots $f(x)$ from equation ([1](#eq:p1:f)) over an arbitrary closed interval.\n",
    "\n",
    "* Use the function to plot $f(x)$ in the range $[-10,10]$. Try to make your figure similar to the one shown in [figure 1](#fig:p1:wave)\n",
    "\n",
    "<!-- dom:FIGURE: [fig-project1/wave.png, frac=1.0] A plot of $f(x)$. <div id=\"fig:p1:wave\"></div> -->\n",
    "<!-- begin figure -->\n",
    "<div id=\"fig:p1:wave\"></div>\n",
    "\n",
    "<img src=\"./fig-project1/wave.png\" ><p style=\"font-size: 0.9em\"><i>Figure 1: A plot of $f(x)$.</i></p>\n",
    "<!-- end figure -->\n"
   ]
  },
  {
   "cell_type": "code",
   "execution_count": 23,
   "id": "712e7247",
   "metadata": {},
   "outputs": [
    {
     "data": {
      "image/png": "[encoded data removed]",
      "text/plain": [
       "<Figure size 640x480 with 1 Axes>"
      ]
     },
     "metadata": {},
     "output_type": "display_data"
    }
   ],
   "source": [
    "def plot_f(function, min, max, h=0.01):\n",
    "    \"\"\"Plot the function f in the interval [min, max].\"\"\"\n",
    "    x = np.arange(min, max, h)\n",
    "    y = function(x)\n",
    "    fig = plt.figure()\n",
    "    plt.plot(x, y)\n",
    "    plt.grid()\n",
    "    plt.xlabel('x')\n",
    "    plt.ylabel('f(x)')\n",
    "    plt.legend(['A gaussian\\n wave packet'])\n",
    "\n",
    "plot_f(f, -10, 10)\n",
    "    "
   ]
  },
  {
   "cell_type": "markdown",
   "id": "84fc3e86",
   "metadata": {},
   "source": [
    "The figure above display the plot of $f(x)$ in the range $[-10, 10]$"
   ]
  },
  {
   "cell_type": "markdown",
   "id": "6eed38ba",
   "metadata": {},
   "source": [
    "\n",
    "**Part 2.**\n",
    "\n",
    "The analytical derivative of $f(x)$ is"
   ]
  },
  {
   "cell_type": "markdown",
   "id": "3df75d6c",
   "metadata": {
    "editable": true
   },
   "source": [
    "$$f^\\prime(x) =b \\cos(bx)\\cdot e^{-ax^2} - 2ax\\sin(bx)\\cdot e^{-ax^2}\\hspace{35pt}\\text{(2)}$$\n",
    "\n",
    "* Write a Python function that calculates the derivative defined in equation ([2](#eq:p1:ana)) (*not* the numerical derivative)\n"
   ]
  },
  {
   "cell_type": "code",
   "execution_count": 24,
   "id": "467d5792",
   "metadata": {},
   "outputs": [],
   "source": [
    "def analytical_derivative(x, a=0.1, b=10):\n",
    "    return (b*np.cos(b*x) - 2*a*x*np.sin(b*x))*np.exp(-a*x*x)"
   ]
  },
  {
   "cell_type": "markdown",
   "id": "1028e417",
   "metadata": {
    "editable": true
   },
   "source": [
    "**Part 3.**\n",
    "\n",
    "Next, you are going to write a Python function that calculates the numerical\n",
    "derivative of an *arbitrary* single-variable function `f` at a point $x$\n",
    "using finite differences.\n",
    "\n",
    "* Write a Python function that calculates the derivative of an arbitrary function using the *forward difference* method (see section 3.3 in [[Hiorth, 2024]](#hiorth) ).\n",
    "\n",
    "* Apply your function to the particular case of equation ([1](#eq:p1:f)) and $x=1$. Use a suitable value of $h$, e.g. $h=1e-2$, and check that your estimate agrees reasonably well with the *analytical solution*.\n",
    "\n",
    "Hint: Check out some tips in Appendix A, we would recommend to use the [args](https://realpython.com/python-kwargs-and-args/) possibility in Python to write a numerical derivative function. See also section 1.3.4 in [[Hiorth, 2024]](#hiorth).\n"
   ]
  },
  {
   "cell_type": "code",
   "execution_count": 25,
   "id": "6bd1107d",
   "metadata": {},
   "outputs": [
    {
     "name": "stdout",
     "output_type": "stream",
     "text": [
      "Numerical result with Forward Difference: -7.220096595246589\n",
      "Analytical result: -7.493783027703379\n",
      "Absolute error of Forward Difference: 0.27368643245679003\n"
     ]
    }
   ],
   "source": [
    "def forward_difference(func, x, h=1E-2, *args):\n",
    "    return (func(x + h) - func(x))/h\n",
    "\n",
    "numerical_resutl = forward_difference(f, 1)\n",
    "analytical_result = analytical_derivative(1)\n",
    "print(f'Numerical result with Forward Difference: {numerical_resutl}')\n",
    "print(f'Analytical result: {analytical_result}')\n",
    "print(f'Absolute error of Forward Difference: {np.abs(numerical_resutl-analytical_result)}')"
   ]
  },
  {
   "cell_type": "markdown",
   "id": "5e61823a",
   "metadata": {},
   "source": [
    "It is shown from the code in the cell aboce that the numerical derivative with forward difference of the function $f(x)$ at $x=1$ is $-7.220096$ and the analytical derivative is $-7.493783$. As the error is $0.273687$, the numerical derivative is in good agreement with the analytical solution."
   ]
  },
  {
   "cell_type": "markdown",
   "id": "eb2e7945",
   "metadata": {},
   "source": [
    "**Part 4.**\n",
    "\n",
    "* Write another Python function that calculates $f^{\\prime}(x)$ with the *central difference* method (see section 3.4 in [[Hiorth, 2024]](#hiorth)).\n"
   ]
  },
  {
   "cell_type": "code",
   "execution_count": 26,
   "id": "9ffc4c09",
   "metadata": {},
   "outputs": [
    {
     "name": "stdout",
     "output_type": "stream",
     "text": [
      "Analytical result: -7.493783027703379\n",
      "Numerical result with Central difference: -7.481567749530806\n",
      "Absolute error of Central Difference: 0.012215278172572397\n"
     ]
    }
   ],
   "source": [
    "def central_difference(func, x, h=1E-2, *args):\n",
    "    return (func(x + h) - func(x - h))*0.5/h\n",
    "\n",
    "print(f'Analytical result: {analytical_result}')\n",
    "print(f'Numerical result with Central difference: {central_difference(f, 1)}')\n",
    "print(f'Absolute error of Central Difference: {np.abs(central_difference(f,1)-analytical_result)}')"
   ]
  },
  {
   "cell_type": "markdown",
   "id": "eb83f688",
   "metadata": {},
   "source": [
    "It is shown from the code in the cell aboce that the numerical derivative with central difference of the function $f(x)$ at $x=1$ is $-7.481568$ and the analytical derivative is $-7.493783$. As the error is $0.012215$, the numerical derivative with central difference is in good agreement with the analytical solution."
   ]
  },
  {
   "cell_type": "markdown",
   "id": "23e8c84b",
   "metadata": {},
   "source": [
    "**Part 5.**\n",
    "\n",
    "Next, we wish to quantify the error in our numerical derivative approximations for the point $x=1$.\n",
    "\n",
    "* For each of the two derivative approximations to $f^{\\prime}(1)$ (forward difference and central difference), make a scatter plot that shows the *absolute error* of the approximation on the $y$-axis versus the step size, $h$, on the $x$-axis. Include both error curves in the same figure. The step sizes should be varied logarithmically between $h=10^{-16}$ and $h=10^0=1$.\n",
    "\n",
    "* Comment on what you observe in the figure you made. When is the numerical error smallest, and why? Is it what you expect from a theoretical analysis using Taylor's formula?\n"
   ]
  },
  {
   "cell_type": "code",
   "execution_count": 27,
   "id": "28173890",
   "metadata": {},
   "outputs": [
    {
     "data": {
      "text/plain": [
       "Text(0, 0.5, 'Numerical Error')"
      ]
     },
     "execution_count": 27,
     "metadata": {},
     "output_type": "execute_result"
    },
    {
     "data": {
      "image/png": "[encoded data removed]",
      "text/plain": [
       "<Figure size 640x480 with 1 Axes>"
      ]
     },
     "metadata": {},
     "output_type": "display_data"
    }
   ],
   "source": [
    "fig = plt.figure()\n",
    "step = np.logspace(-16, 0, 100)\n",
    "x = 1\n",
    "error_forward = [abs(forward_difference(f, x, h) - analytical_derivative(x)) for h in step]\n",
    "error_central = [abs(central_difference(f, x, h) - analytical_derivative(x)) for h in step]\n",
    "plt.plot(step, error_forward, '-o', label='Forward difference')\n",
    "plt.plot(step, error_central, '-x', label='Central difference')\n",
    "\n",
    "plt.grid()\n",
    "plt.legend(loc='best')\n",
    "plt.xscale('log')\n",
    "plt.yscale('log')\n",
    "plt.xlabel('Step size')\n",
    "plt.ylabel('Numerical Error')"
   ]
  },
  {
   "cell_type": "markdown",
   "id": "d59bbd3e",
   "metadata": {},
   "source": [
    "The above figure visualizes absolute error for both forward difference and central difference method to differentiate equation ([1](#eq:p1:f)) and $x=1$"
   ]
  },
  {
   "cell_type": "code",
   "execution_count": 28,
   "id": "d5562544",
   "metadata": {},
   "outputs": [
    {
     "name": "stdout",
     "output_type": "stream",
     "text": [
      "Step size that make the error smallest in forward difference method is: 5.72236765935022e-09, which makes the error: 1.560801212718843e-07\n",
      "Step size that make the error smallest for central difference method is 1.1233240329780311e-07, which makes the error: 7.446043781556e-11\n"
     ]
    }
   ],
   "source": [
    "#return the step size that make the error smallest based on numerical calculation\n",
    "print(f'Step size that make the error smallest in forward difference method is: {step[error_forward.index(min(error_forward))]}, which makes the error: {min(error_forward)}')   \n",
    "print(f'Step size that make the error smallest for central difference method is {step[error_central.index(min(error_central))]}, which makes the error: {min(error_central)}')"
   ]
  },
  {
   "cell_type": "code",
   "execution_count": 29,
   "id": "9da632e2",
   "metadata": {},
   "outputs": [
    {
     "name": "stdout",
     "output_type": "stream",
     "text": [
      "Optimal step size for forward difference: 2.8835752499071992e-09\n",
      "Optimal step size for central difference: 9.619944622035315e-07\n"
     ]
    }
   ],
   "source": [
    "#Calculating the error using Taylor's series\n",
    "step_size_forward = 2*np.sqrt(np.finfo(float).eps * abs (-0.49/52.34)) \n",
    "step_size_central = (6*np.finfo(float).eps * abs(-0.49/733.28))**(1/3)\n",
    "print(f'Optimal step size for forward difference: {step_size_forward}')\n",
    "print(f'Optimal step size for central difference: {step_size_central}')"
   ]
  },
  {
   "cell_type": "markdown",
   "id": "d15ab9a7",
   "metadata": {},
   "source": [
    "Numerical error is a sum of truncation error and round-off error, while truncation error is proportional to $h$, round-off error is inversely proportional to $h$. Theoritical analysis using Taylor's formula for forward difference and central difference is shown in the equations below. \n",
    "\n",
    "\n",
    "\n",
    "**Forward Difference**  \n",
    "The total error of the forward difference method is given by: \n",
    "\n",
    "\\begin{equation*}\n",
    "R_1 = \\frac{h}{2} |f''(\\eta)| + \\frac{2 \\epsilon |f(x)|}{h}\n",
    "\\end{equation*}\n",
    "The step size that minimizes the total error is known by differentiating the $R_1$ with respect to $h$ and put it equal to zero. The optimal step size is given by:\n",
    "\n",
    "\\begin{equation*}\n",
    "h = 2 \\sqrt{\\epsilon |\\frac{f(x)}{f''(\\eta)}|} \n",
    "\\end{equation*}\n",
    "The approximation value of $f(1)$ and $f''(1)$ is $-0.49$ and $52.34$ respectively. By inserting those values into the equation above, the optimal step size is $2.88 \\cdot 10^{-9}$.\n",
    "\n",
    "**Central Difference**  \n",
    "The total error of the central difference method is given by:\n",
    "\n",
    "\\begin{equation*}\n",
    "R_2 = \\frac{h^2}{6} |f'''(\\eta)| + \\frac{2 \\epsilon |f(x)|}{h}\n",
    "\\end{equation*}\n",
    "By doing the same procedure as above, the optimal step size is given by:\n",
    "\\begin{equation*}\n",
    "h = \\sqrt[3]{6 \\epsilon |\\frac{f(x)}{f'''(\\eta)}|} \n",
    "\\end{equation*}\n",
    "By using the approximation value of $f(1)$ and $f'''(1)$, which are $-0.49$ and $733.28$ the optimal step size is $9.62 \\cdot 10^{-7}$.\n",
    "\n",
    "Based on the scatter plot above, the numerical error is the smallest when step size, h, is around $10^{-9}$ for approximation using forward difference and $10^{-7}$ for central difference which is consistent with the theoretical analysis using Taylor's formula.\n",
    "\n"
   ]
  },
  {
   "cell_type": "markdown",
   "id": "831a0178",
   "metadata": {},
   "source": [
    "\n",
    "# Exercise 3, Part II: FD with Classes\n",
    "<div id=\"exer:fd_classes\"></div>\n",
    "\n",
    "Implementing numerical algorithms with free functions, as we did in the\n",
    "previous exercise, is perfectly fine, and you can complete the course by only\n",
    "coding in this way. However, experience has taught us that it is easy to\n",
    "introduce unnecessary errors when using this approach. In many cases you\n",
    "are better off by also using classes, and maybe [object-oriented design](https://realpython.com/python3-object-oriented-programming/).\n",
    "In this exercise, you will get some practice in coding with classes.\n",
    "This knowledge will come in handy in later projects, and in any case\n",
    "it is a good tool to have in your programming toolkit.\n",
    "\n",
    "Previously, we worked with a function having two input parameters, $a$ and $b$.\n",
    "Implementing numerical algorithms using free functions was then simple.\n",
    "However, in a more complicated situation there\n",
    "could be dozens, or even hundreds, of parameters to keep track of.\n",
    "Most of these parameters might have fixed values, but frequently you will\n",
    "want to re-run a model with slightly different parameters than before.\n",
    "If you are not using classes, it is very easy to use the wrong parameters.\n",
    "This is especially true when working in a Jupyter notebook, because then it is\n",
    "possible to run code blocks in any order. If you forget to excute a cell that is\n",
    "responsible for updating one of your variables, your subsequent calculations\n",
    "might use incorrect input, and thus end up being wrong!\n",
    "\n",
    "**Key take-away: Classes provide encapsulation.**\n",
    "\n",
    "By wrapping parts of your code into classes, and particular realizations of\n",
    "classes (objects), you facilitate code re-use, and it can make your code\n",
    "easier to understand and work with, thus reducing the probability of\n",
    "introducing bugs which may be hard to track down.\n",
    "\n",
    "\n",
    "\n",
    "## A Crash Course on Classes\n",
    "<div id=\"exer:crash_course\"></div>\n",
    "\n",
    "To get started, there are really only a couple of things you need to know.\n",
    "First, all of your classes should include a special function called `__init__`,\n",
    "in which you declare the variables (attributes) you wish an instance / object\n",
    "of the class to keep track of.\n",
    "\n",
    "Second, when setting, updating, or fetching attributes stored within the class,\n",
    "you should always use the prefix `self`, followed by a dot.\n",
    "Furthermore, the functions you define inside the class should have `self` as\n",
    "the first function argument ([there are exceptions](https://realpython.com/python3-object-oriented-programming/),\n",
    "but we will not consider that in this project).\n",
    "All of this is best understood via an example:"
   ]
  },
  {
   "cell_type": "code",
   "execution_count": 30,
   "id": "a08f8e81",
   "metadata": {
    "collapsed": false,
    "editable": true
   },
   "outputs": [],
   "source": [
    "class WavePacket:\n",
    "    \"\"\"\n",
    "    A class representation of a wave packet-function.\n",
    "    \"\"\"\n",
    "    def __init__(self, a, b):\n",
    "        self.a = a\n",
    "        self.b = b\n",
    "\n",
    "    def f(self, x):\n",
    "        return np.sin(self.b*x)*np.exp(-self.a*x*x)\n",
    "\n",
    "    def plot(self, x_min=-10, x_max=10, dx=0.01):\n",
    "        \"\"\"\n",
    "        A simple plotting routine for plotting f(x) in some range.\n",
    "        \"\"\"\n",
    "        x = np.arange(x_min, x_max, dx)\n",
    "        y = self.f(x)\n",
    "        fig = plt.figure()\n",
    "        plt.plot(x, y)\n",
    "        plt.grid()"
   ]
  },
  {
   "cell_type": "markdown",
   "id": "a77bf7d4",
   "metadata": {
    "editable": true
   },
   "source": [
    "Besides the initialization method and a function that calculates $f(x)$ from\n",
    "equation ([1](#eq:p1:f)), the class includes a simple plotting routine.\n",
    "A major difference from before is the following: when our function $f(x)$\n",
    "is defined inside a class, we do not have to pass around $a$ and $b$ as\n",
    "arguments to the function `f`. Instead, we simply access $a$ and $b$ from\n",
    "inside the class itself (using the `self`-prefix).\n",
    "<!--  -->\n",
    "<!-- both when referring to the variables / attributes, and as the first input -->\n",
    "<!-- argument to the function. -->\n",
    "\n",
    "Below is an example of how to use the class:"
   ]
  },
  {
   "cell_type": "code",
   "execution_count": 31,
   "id": "79cd1b40",
   "metadata": {
    "collapsed": false,
    "editable": true
   },
   "outputs": [
    {
     "name": "stdout",
     "output_type": "stream",
     "text": [
      "0.8227663359156917\n",
      "-0.49225065733419177\n",
      "Comparison of the values of two functions at the point x=1.\n"
     ]
    },
    {
     "data": {
      "image/png": "[encoded data removed]",
      "text/plain": [
       "<Figure size 640x480 with 1 Axes>"
      ]
     },
     "metadata": {},
     "output_type": "display_data"
    },
    {
     "data": {
      "image/png": "[encoded data removed]",
      "text/plain": [
       "<Figure size 640x480 with 1 Axes>"
      ]
     },
     "metadata": {},
     "output_type": "display_data"
    }
   ],
   "source": [
    "import matplotlib.pyplot as plt\n",
    "# Create two WavePacket objects, having their own parameter values\n",
    "WP1 = WavePacket(0.1, 2)  # a=0.1, b=2\n",
    "WP2 = WavePacket(0.1, 10)  # a = 0.1, b=10\n",
    "\n",
    "# Evaluate the two functions at a specific point\n",
    "x = 1\n",
    "print(WP1.f(x))\n",
    "print(WP2.f(x))\n",
    "print('Comparison of the values of two functions at the point x=1.')\n",
    "\n",
    "# Plot the two functions\n",
    "WP1.plot()\n",
    "WP2.plot()"
   ]
  },
  {
   "cell_type": "markdown",
   "id": "e0afe546",
   "metadata": {
    "editable": true
   },
   "source": [
    "Although we had to write slightly more code, we hope you appreciate\n",
    "how easy this makes running parallel simulations with different parameters.\n",
    "Actually, Python provides a way for us to simplify even further, by\n",
    "defining the special [`__call__`](https://www.realpythonproject.com/python-magic-oop-dunder/)  method for the class:"
   ]
  },
  {
   "cell_type": "code",
   "execution_count": 32,
   "id": "4feb4905",
   "metadata": {
    "collapsed": false,
    "editable": true
   },
   "outputs": [],
   "source": [
    "class FancyWavePacket:\n",
    "    \"\"\"\n",
    "    A slightly more fancy class representation of a wave packet-function.\n",
    "\n",
    "    In this version, we define the dunder (double-underscore) method __call__,\n",
    "    which lets us treat objects of the class as if they were real functions!\n",
    "    \"\"\"\n",
    "    def __init__(self, a, b):\n",
    "        self.a = a\n",
    "        self.b = b\n",
    "\n",
    "    def __call__(self, x):\n",
    "        return np.sin(self.b*x)*np.exp(-self.a*x*x)\n",
    "    \n",
    "    def analytical_derivative(self, x):\n",
    "        \"\"\"Calculate the analytical derivative of f at x.\"\"\"\n",
    "        return (self.b*np.cos(self.b*x) - 2*self.a*x*np.sin(self.b*x))*np.exp(-self.a*x*x)\n",
    "    \n",
    "    def forward_difference(self, x, h):\n",
    "        \"\"\"Return the forward difference approximation of the derivative of f at x.\"\"\"\n",
    "        return (self(x + h) - self(x))/h\n",
    "    \n",
    "    def central_difference(self, x, h):\n",
    "        \"\"\"Return the central difference approximation of the derivative of f at x.\"\"\"\n",
    "        return (self(x + h) - self(x - h))*0.5/h\n",
    "    \n",
    "    def plot(self, x, *args):\n",
    "        \"\"\"\n",
    "        Scatter plot of the numerical error of the forward and central difference\n",
    "        \"\"\"\n",
    "        fig = plt.figure()\n",
    "        step = np.logspace(-16, 0, 100)\n",
    "        plt.plot(step, [abs(self.forward_difference(x, h) - self.analytical_derivative(x)) for h in step], '-o', label='Forward difference')\n",
    "        plt.plot(step, [abs(self.central_difference(x, h) - self.analytical_derivative(x)) for h in step], '-x', label='Central difference')\n",
    "\n",
    "        \n",
    "        plt.grid()\n",
    "        plt.legend(loc='best')\n",
    "        plt.xscale('log')\n",
    "        plt.yscale('log')\n",
    "        plt.xlabel('Step size')\n",
    "        plt.ylabel('Numerical Error')\n",
    "        plt.show()\n",
    "\n"
   ]
  },
  {
   "cell_type": "markdown",
   "id": "08cfac6f",
   "metadata": {
    "editable": true
   },
   "source": [
    "Compared to the first example of the class, observe that we have replaced the\n",
    "function `f` by `__call__` (with two underscores on both sides of \"call\").\n",
    "This way, we we can write our code *as if FancyWavePacket was a function*:"
   ]
  },
  {
   "cell_type": "code",
   "execution_count": 33,
   "id": "5ae2e961",
   "metadata": {
    "collapsed": false,
    "editable": true
   },
   "outputs": [
    {
     "name": "stdout",
     "output_type": "stream",
     "text": [
      "0.8227663359156917\n",
      "-0.49225065733419177\n",
      "Comparison of the values of two fancy wave packet functions at the point x=1.\n"
     ]
    }
   ],
   "source": [
    "WP1 = FancyWavePacket(0.1, 2)  # a=0.1, b=2\n",
    "WP2 = FancyWavePacket(0.1, 10)  # a = 0.1, b=10\n",
    "\n",
    "# Evaluate the two functions at a specific point\n",
    "x = 1\n",
    "print(WP1(x))  # If WP1 had been a function, the syntax would be the same here!\n",
    "print(WP2(x))  # Again, we no longer have to type \"WP2.f(x)\", we can do \"WP2(x)\".\n",
    "print('Comparison of the values of two fancy wave packet functions at the point x=1.')"
   ]
  },
  {
   "cell_type": "markdown",
   "id": "d384efe2",
   "metadata": {},
   "source": [
    "**READ THIS BEFORE ANSWERING THE EXERCISES BELOW.**\n",
    "\n",
    "To avoid code duplication, you should only submit a single version of the\n",
    "WavePacket class. In other words, while different exercises will ask you to add\n",
    "a new function to the class, your final delivery should only include the full\n",
    "class which contains all of the functions.\n",
    "\n",
    "\n",
    "\n",
    "**Part 1.**\n",
    "\n",
    "* Add a function ([instance method](https://realpython.com/instance-class-and-static-methods-demystified/)) to the class that returns the forward difference approximation to the derivative of the function `f` at a point `x`. Include both `x` and the step-size `h` as input arguments to the function.\n",
    "\n",
    "* Add another second function which calculates the central difference approximation.\n"
   ]
  },
  {
   "cell_type": "markdown",
   "id": "68739c04",
   "metadata": {},
   "source": [
    "\n",
    "**Part 2.**\n",
    "\n",
    "* Make a third class function that, for any input $x$, creates scatter plots showing the absolute error of the two finite difference approximations of $f^{\\prime}(x)$ versus step size. As before, choose step sizes in the range from $10^{-16}$ to 1 (with logarithmic spacing). \n",
    "\n",
    "\n",
    "Hint: You should re-use the first two functions when making the third one."
   ]
  },
  {
   "cell_type": "code",
   "execution_count": 34,
   "id": "ec6f4678",
   "metadata": {},
   "outputs": [
    {
     "data": {
      "image/png": "[encoded data removed]",
      "text/plain": [
       "<Figure size 640x480 with 1 Axes>"
      ]
     },
     "metadata": {},
     "output_type": "display_data"
    }
   ],
   "source": [
    "Wave1 = FancyWavePacket(0.1, 10)\n",
    "Wave1.plot(x=1)"
   ]
  },
  {
   "cell_type": "markdown",
   "id": "1b90ac6e",
   "metadata": {},
   "source": [
    "The above figure visualizes absolute error for both forward difference and central difference method to differentiate equation ([1](#eq:p1:f)) and $x=1$ produced using a function inside a class."
   ]
  },
  {
   "cell_type": "code",
   "execution_count": 35,
   "id": "6fe5b95a",
   "metadata": {},
   "outputs": [
    {
     "name": "stdout",
     "output_type": "stream",
     "text": [
      "The value of f'(x) at x=1 using different method of differentiation\n",
      "Forward difference: -7.220096595246589\n",
      "Central difference: -7.481567749530806\n",
      "Analytical derivative: -7.493783027703379\n"
     ]
    }
   ],
   "source": [
    "print(\"The value of f'(x) at x=1 using different method of differentiation\")\n",
    "print(f\"Forward difference: {Wave1.forward_difference(1, 1E-2)}\")\n",
    "print(f\"Central difference: {Wave1.central_difference(1, 1E-2)}\")\n",
    "print(f\"Analytical derivative: {Wave1.analytical_derivative(1)}\")"
   ]
  },
  {
   "cell_type": "markdown",
   "id": "f0749c46",
   "metadata": {},
   "source": [
    "It is shown from the code in the cell above that the numerical derivative with forward difference, central difference, and the analytical derivative of the function $f(x)$ at $x=1$ is $-7.220096, -7.481568,$ and $-7.493783$ respectively which means the numerical approximation using both methods is doing well compared to the analytical result."
   ]
  },
  {
   "cell_type": "markdown",
   "id": "01bddd65",
   "metadata": {
    "editable": true
   },
   "source": [
    "# Exercise 5: Automatic for the people?\n",
    "<div id=\"exer:autoder\"></div>\n",
    "* NB! We have chosen this Exercise instead of Exercise 4\n",
    "\n",
    "## Introduction to automatic differentiation\n",
    "<!-- \n",
    "At the core of computational models, the computer evaluates *gradients*. Gradients may be evaluated using numerical differentiation. Numerical differentiation is usually slow and could be influenced by round off errors. Humans can calculate derivatives of complicated functions using a set of rules. Why cannot the computer do the same, provided of course that we explain the rules? This idea was explored by Wengert in 1964 [[wengert1964simple]](#wengert1964simple). \n",
    "\n",
    "The core idea behind automatic differentiation is the fact that when we evaluate a function, it is done by using a set of fixed operations: addition, subtraction, multiplication, division and a set of elementary functions, $\\sin, \\log, \\exp$ etc [[wengert1964simple]](#wengert1964simple).\n",
    "\n",
    "So how can we tell the algebraic rules of differentiation to the computer? We will do this using Python and object oriented programming. We want to calculate both the function value *and* the derivative at the same time. To achieve this we implement these operations using a vector of size 2 -->\n",
    "\n",
    "\n",
    "\n",
    "\n",
    "As calculating the derivation of a function with numerical differentiation can be slow and inaccurate due to round-off errors, Wengert in 1964 [[Wengert, 1964]](#wengert1964simple) proposed a technique called Automatic Differentiation (AD). The calculation of the given \"complex\" expression is decomposed using the chain rule, and the derivative is calculated by evaluating the expression and its derivative at the same time. The main feature of this approch is the simplicity it offers.\n",
    "\n",
    "For example, to compute $f'$ where\n",
    "\\begin{equation*}\n",
    "f = \\frac{x_1}{x_2^2 x_3}\n",
    "\\end{equation*}\n",
    "using AD, first the function should be decomposed into elementary operations of power, multiplication, and division. By doing these subroutines, the derivative of function $f$ can be calculated indirectly. The higher order functions are also treated in the exactly same manner.\n",
    "\n",
    "To implement AD in python, we use a vector of size 2 to store the function value and its derivative. The vector is defined as:\n",
    "\n",
    "\n",
    "$$\\begin{pmatrix}\n",
    "f(x) \\\\ f^\\prime(x)\n",
    "\\end{pmatrix}\\hspace{35pt}\\text{(10)}$$\n",
    "\n",
    "Then, using object oriented programming for the class of vector above, sets of fixed operations (addition, substraction, multiplication, and division) is applied. Combining it with elementary functions such as $\\sin, \\log, \\exp$, the derivative of any complex functions could be evaluated."
   ]
  },
  {
   "cell_type": "code",
   "execution_count": 36,
   "id": "e0fe39ed",
   "metadata": {
    "collapsed": false,
    "editable": true
   },
   "outputs": [],
   "source": [
    "class duple:\n",
    "    '''\n",
    "    Class for automatic differentiation\n",
    "    top: function value\n",
    "    bottom: derivative of function \n",
    "    '''\n",
    "    def __init__(self,top, bottom=0):\n",
    "        self.top = top\n",
    "        self.bottom = bottom\n",
    "\n",
    "    def __neg__(self):\n",
    "        \"\"\"Return the negation of the duple\"\"\"\n",
    "        return duple(-self.top, -self.bottom)\n",
    "    \n",
    "    def __add__(self, d): # u+v, u'+v' \n",
    "        \"\"\"Return addition\"\"\"\n",
    "        return duple(self.top + d.top, self.bottom + d.bottom )\n",
    "    \n",
    "    def __sub__(self, d): # u-v, u'-v'\n",
    "        \"\"\"Return substraction\"\"\"\n",
    "        return duple(self.top - d.top, self.bottom - d.bottom )\n",
    "    \n",
    "    def __mul__(self, d):\n",
    "        \"\"\"Return multiplication\"\"\"\n",
    "        top = self.top*d.top\n",
    "        bottom = self.top*d.bottom + self.bottom*d.top\n",
    "        return duple(top, bottom)\n",
    "    \n",
    "    def __truediv__(self, d):\n",
    "        \"\"\"Return division\"\"\"\n",
    "        top = self.top/d.top\n",
    "        bottom = (self.bottom*d.top - self.top*d.bottom)/(d.top**2)\n",
    "        return duple(top, bottom)\n",
    "    \n",
    "    def __repr__(self):\n",
    "        return \"[\"+str(self.top)+\",\"+str(self.bottom)+\"]\"\n",
    "    \n",
    "    def __str__(self):\n",
    "        return \"[\"+str(self.top)+\",\"+str(self.bottom)+\"]\""
   ]
  },
  {
   "cell_type": "markdown",
   "id": "de717da4",
   "metadata": {
    "editable": true
   },
   "source": [
    "## Addition and substraction\n",
    "Next, we want to implement some simple operations, lets say we want to do"
   ]
  },
  {
   "cell_type": "code",
   "execution_count": 37,
   "id": "0d3bee43",
   "metadata": {
    "collapsed": false,
    "editable": true
   },
   "outputs": [
    {
     "data": {
      "text/plain": [
       "[4,6]"
      ]
     },
     "execution_count": 37,
     "metadata": {},
     "output_type": "execute_result"
    }
   ],
   "source": [
    "x=duple(1,2) #f(x)=1, f'(x)=2\n",
    "y=duple(3,4) #g(x)=3, g'(x)=4\n",
    "x+y # f(x)+g(x)=4, f'(x)+g'(x)=6"
   ]
  },
  {
   "cell_type": "markdown",
   "id": "a3fae818",
   "metadata": {
    "editable": true
   },
   "source": [
    "clearly we want to have as output `[4,6]`. If you run the code, Python will give an error message `TypeError: unsupported operand type(s) for +: 'duple' and 'duple'`. This is because `duple` is a class we have defined,  and the `+` operator is not defined for this class. However, in Python you can implement these operations using [*operator overloading*](https://www.geeksforgeeks.org/operator-overloading-in-python/)"
   ]
  },
  {
   "cell_type": "markdown",
   "id": "99a11660",
   "metadata": {
    "editable": true
   },
   "source": [
    "it is now possible to run the following code"
   ]
  },
  {
   "cell_type": "code",
   "execution_count": 38,
   "id": "b92124c6",
   "metadata": {
    "collapsed": false,
    "editable": true
   },
   "outputs": [
    {
     "name": "stdout",
     "output_type": "stream",
     "text": [
      "4 6\n"
     ]
    }
   ],
   "source": [
    "x=duple(1,2)\n",
    "y=duple(3,4)\n",
    "z=x+y\n",
    "print(z.top, z.bottom)\n"
   ]
  },
  {
   "cell_type": "markdown",
   "id": "ea87b611",
   "metadata": {
    "editable": true
   },
   "source": [
    "to get the expected result. It would also be nice to simply do `print(x+y)` or `x+y` and get the result `[4,6]`, instead of accessing variables by e.g. `z.top`. Fortunately Python has functionality for this, `__repr__` and `__str__`. The `__repr__` and `__str__` is what is produced if you simply write `x+y` or `print(x+y)` in the terminal respectively. \n",
    "\n",
    "**Part 1.**\n",
    "* add the following functions to your class, what happens when you do `x+y`?"
   ]
  },
  {
   "cell_type": "code",
   "execution_count": 39,
   "id": "ed397d99",
   "metadata": {
    "collapsed": false,
    "editable": true
   },
   "outputs": [],
   "source": [
    "def __repr__(self):\n",
    "        return \"[\"+str(self.top)+\",\"+str(self.bottom)+\"]\"\n",
    "    \n",
    "def __str__(self):\n",
    "        return \"[\"+str(self.top)+\",\"+str(self.bottom)+\"]\""
   ]
  },
  {
   "cell_type": "markdown",
   "id": "5eb314a0",
   "metadata": {
    "editable": true
   },
   "source": [
    "will allow you to get nice formatted output.\n",
    "\n",
    "**Part 2.**\n",
    "\n",
    "In the code above we have implemented `+` operator, however if you try to execute `+x` or `-x`, Python will give an error message `TypeError: bad operand type for unary -: 'duple'`.\n",
    "\n",
    "* Extend your code to make it possible to perform those operations. (Hint: check out `__neg__` and `__pos__` in the [documentation](https://docs.python.org/3/library/operator.html))\n",
    "\n",
    "* Implement the `-` operator using `__sub__`, test that if you do `x-y` you get `[-2,-2]`\n",
    "\n",
    "## Multiplication and division\n",
    "So far we have treated the function (top) and derivative (bottom) equally in terms of addition and subtraction. That is because addition and subtraction is a linear operation, i.e. $(f(x)+g(x))^\\prime=f^\\prime(x)+g^\\prime(x)$. For multiplication and division we have different rules"
   ]
  },
  {
   "cell_type": "markdown",
   "id": "061954e6",
   "metadata": {
    "editable": true
   },
   "source": [
    "$$(f(x)\\cdot g(x))^\\prime =f^\\prime(x)\\cdot g(x)+f(x)\\cdot g^\\prime(x)\\hspace{35pt}\\text{(11)}$$"
   ]
  },
  {
   "cell_type": "markdown",
   "id": "1aedf5df",
   "metadata": {
    "editable": true
   },
   "source": [
    "$$\\left(\\frac{f(x)}{g(x)}\\right)^\\prime =\\frac{f^\\prime(x)\\cdot g(x)-f(x)\\cdot g^\\prime(x)}{g(x)^2}\\hspace{35pt}\\text{(12)}$$"
   ]
  },
  {
   "cell_type": "markdown",
   "id": "bd4299f0",
   "metadata": {
    "editable": true
   },
   "source": [
    "Hence we need to implement a different rule for the multiplication operator\n",
    "\n",
    "**Part 3.**\n",
    "1. use the `__mul__` function to implement the `*` operator, use normal multiplication for the top, and equation ([10](#eq:auto:mul)) for the bottom.\n",
    "\n",
    "2. use the `__truediv__` function to implement the `/` operator, use normal division for the top, and equation ([11](#eq:auto:div)) for the bottom.\n",
    "\n",
    "### Test of code\n",
    "\n",
    "Before proceeding to more advanced functions, we can actually do quite a lot with our small code and calculate derivatives of simple functions"
   ]
  },
  {
   "cell_type": "code",
   "execution_count": 40,
   "id": "a9479be5",
   "metadata": {
    "collapsed": false,
    "editable": true
   },
   "outputs": [
    {
     "name": "stdout",
     "output_type": "stream",
     "text": [
      "auto diff= [1.728,4.32]\n",
      "analytical= 1.728 4.319999999999999\n",
      "auto diff= [0.45454545454545453,-0.20661157024793386]\n",
      "analytical= 0.45454545454545453 -0.20661157024793386\n",
      "auto diff= [3.0944787419716917,4.297548854694511]\n",
      "analytical= 3.0944787419716917 4.297548854694511\n"
     ]
    }
   ],
   "source": [
    "x=1.2 # just for making it easy to use other values\n",
    "One=duple(1.,0.) # derivative of a constant is zero\n",
    "X=duple(x,1) # derivative of x with respect to x is 1\n",
    "print(\"auto diff=\",X*X*X)\n",
    "print(\"analytical=\",x*x*x, 3*x*x)\n",
    "\n",
    "print(\"auto diff=\", One/(One+X))\n",
    "print(\"analytical=\", 1/(1+x),-1/(1+x)**2)\n",
    "\n",
    "Exp=duple(np.exp(x),np.exp(x)) # derivative of exp(x) is exp(x)\n",
    "Sin=duple(np.sin(x),np.cos(x)) # derivative of sin(x) is cos(x)\n",
    "print(\"auto diff=\", Exp*Sin)\n",
    "print(\"analytical=\", np.exp(x)*np.sin(x), np.exp(x)*np.sin(x)+np.exp(x)*np.cos(x))"
   ]
  },
  {
   "cell_type": "markdown",
   "id": "746aed9a",
   "metadata": {
    "editable": true
   },
   "source": [
    "## Adding more functions\n",
    "So far we have only implemented functions where we explicitly know the derivative, but it would be more convenient if we could implement more complicated functions, such as $\\ln(1+e^x)$, without explicitly calculating the derivatives. Actually the only thing we need to do is to implement the kernel rule for the bottom part"
   ]
  },
  {
   "cell_type": "markdown",
   "id": "4fecd912",
   "metadata": {
    "editable": true
   },
   "source": [
    "$$f(g(x))^\\prime=f^\\prime(g(x))\\cdot g^\\prime (x)\\hspace{35pt}\\text{(13)}$$"
   ]
  },
  {
   "cell_type": "markdown",
   "id": "1c55ca96",
   "metadata": {
    "editable": true
   },
   "source": [
    "**Part 4.**\n",
    "Finish the code below"
   ]
  },
  {
   "cell_type": "code",
   "execution_count": 41,
   "id": "49532c62",
   "metadata": {
    "collapsed": false,
    "editable": true
   },
   "outputs": [],
   "source": [
    "class dfunction:\n",
    "    \n",
    "    def __init__(self, f, df):\n",
    "        self.f = f\n",
    "        self.df = df\n",
    "\n",
    "    def __call__(self,d: duple): # kernel rule sending in and returning duple\n",
    "        return duple(self.f(d.top), self.df(d.top) * d.bottom)#fill inn kernel rule here!)"
   ]
  },
  {
   "cell_type": "markdown",
   "id": "a764ab47",
   "metadata": {
    "editable": true
   },
   "source": [
    "\n",
    "If your code works, you should be able to run the following code"
   ]
  },
  {
   "cell_type": "code",
   "execution_count": 42,
   "id": "322bca6f",
   "metadata": {
    "collapsed": false,
    "editable": true
   },
   "outputs": [
    {
     "name": "stdout",
     "output_type": "stream",
     "text": [
      "auto diff  [3.144063967938574,0.9568927450589139]\n",
      "analytical  3.144063967938574 0.9568927450589139\n"
     ]
    }
   ],
   "source": [
    "def f(x):\n",
    "    return np.log(x)\n",
    "def df(x):\n",
    "    return 1/x\n",
    "\n",
    "x=3.1\n",
    "One=duple(1.,0.) # derivative of a constant is zero\n",
    "X=duple(x,1) # derivative of x with respect to x is 1\n",
    "Log=dfunction(f,df) #note no arguments to f - we are passing the function\n",
    "Exp=dfunction(np.exp,np.exp) # same here\n",
    "print(\"auto diff \", Log(One+Exp(X)))\n",
    "print(\"analytical \", np.log(1+np.exp(x)),np.exp(x)/(1+np.exp(x)))"
   ]
  },
  {
   "cell_type": "markdown",
   "id": "2cdf0e12",
   "metadata": {},
   "source": [
    "Next, we can easily evaluate the function that we evaluated previously using finite differences"
   ]
  },
  {
   "cell_type": "code",
   "execution_count": 43,
   "id": "d862548b",
   "metadata": {},
   "outputs": [
    {
     "name": "stdout",
     "output_type": "stream",
     "text": [
      "auto diff  [-0.49225065733419177,-7.493783027703379]\n",
      "analytical  -0.49225065733419177 -7.493783027703379\n"
     ]
    }
   ],
   "source": [
    "a=0.1\n",
    "b=10\n",
    "x=1\n",
    "A=duple(a) #second argument is default 0 i.e. a constant\n",
    "B=duple(b) #second argument is default 0 i.e. a constant\n",
    "X=duple(x,1)\n",
    "Sin=dfunction(np.sin,np.cos)\n",
    "Exp=dfunction(np.exp,np.exp)\n",
    "print('auto diff ', Sin(B*X)*Exp(-A*X*X))\n",
    "print('analytical ', np.sin(b*x)*np.exp(-a*x*x),b*np.cos(b*x)*np.exp(-a*x*x)-2*a*x*np.sin(b*x)*np.exp(-a*x*x))"
   ]
  },
  {
   "cell_type": "markdown",
   "id": "6193343c",
   "metadata": {
    "editable": true
   },
   "source": [
    "**Part 5.**\n",
    "* Write a few sentences about the use of automatic differentiation in some areas\n",
    "\n",
    "Automatic Differentiation (AD) is a computational technique that is used to evaluate derivatives of function. This is based on [Wengert´s](#wengert1964simple) idea to decompose the function into a sequence of elementary operations which are easier to differentiate. It is extensively used in machine learning, optimization, and computational science for its ability to efficiently compute exact gradients and derivatives. In machine learning, it is crucial for training neural networks by providing precise gradients needed for optimization. Similarly, in optimization and computational science, it supports accurate simulations and sensitivity analysis by delivering exact derivative values. \n",
    "\n",
    "\n",
    "* Make some comments about the strength and weaknesses of automatic differentiation compared to numerical differentiation\n",
    "\n",
    "Finite differentiation can perform very poorly when applied to complex functions for a several of reasons such as subject to floating point precision errors. AD on the other hand, escapes many limitations posed by finite differentiation [[Margossian, 2019]](#margossianad).  \n",
    "\n",
    "**Strengths**\n",
    "* Accuracy: AD avoids the numerical errors that are common in numerical differentiation since AD provides exact derivatives up to machine precision.\n",
    "* Efficiency: AD is more efficient than numerical differentiation, especially for complex functions that have many variables, since it requires fewer function evaluations.\n",
    "\n",
    "**Weaknesses**\n",
    "* Memory: AD requires more memory than numerical differentiation since it needs to store the intermediate values of the derivatives.\n",
    "* Complexity: AD is more complex than numerical differentiation, which makes it harder to implement and understand.\n",
    "* Overhead: AD has some overhead compared to numerical differentiation, which can make it slower for simple functions."
   ]
  },
  {
   "cell_type": "markdown",
   "id": "feaae198",
   "metadata": {},
   "source": [
    "**Summary**  \n",
    "\n",
    "To sum up, in this project we have learned the float representation in the system, powerful tools such as NumPy, the finite difference method and its application with functions and classes, and also object-oriented programming used to evaluate derivatives using the Automatic Differentiation method.\n",
    "The tasks in this project were of great help to understand and learn about these concepts. Moreover, getting familiar with these concepts can be of great help in future projects in this course, other courses and eventually in the industry.\n",
    "\n",
    "<!-- To sum up, with this project we have learned the float representation in the system, powerful tools such as NumPy, finite difference method and its application with function and class, and also object-oriented programming used to evaluate derivatives using Automatic Differentiation method. -->\n",
    "<!-- These tasks were of great help in understanding and learning about what should be awared in the future uses of Python. Thanks to that, many bugs will be avoided. Moreover, getting familiar with such powerful tools are necessary. In future code-writing knowledge about logic, speed and other possibilities unlocked by using NumPy, Classes, and Functions will be useful for projects, university or in the end jobs.  -->"
   ]
  },
  {
   "cell_type": "markdown",
   "id": "4c9f44b9",
   "metadata": {},
   "source": [
    "# Bibliography\n",
    "1. <div id=\"goldberg1991every\"></div> **D. Goldberg**.  What Every Computer Scientist Should Know About Floating-Point Arithmetic, *ACM computing surveys (CSUR)*, 23(1), pp. 5-48, 1991.\n",
    "\n",
    "2. <div id=\"fretwell2013bedmap2\"></div> **P. Fretwell, H. D. Pritchard, D. G. Vaughan, J. L. Bamber, N. E. Barrand, R. Bell, C. Bianchi, R. Bingham, D. D. Blankenship and G. Casassa**.  Bedmap2: Improved Ice Bed, Surface and Thickness Datasets for Antarctica, *The Cryosphere*, 7(1), pp. 375-393, 2013.\n",
    "\n",
    "3. <div id=\"wengert1964simple\"></div> **R. E. Wengert**.  A Simple Automatic Derivative Evaluation Program, *Communications of the ACM*, 7(8), pp. 463-464, 1964.\n",
    "\n",
    "4. <div id=\"hiorth\"></div> **A. Hiorth**.  *Computational Engineering and Modeling*,  https://github.com/ahiorth/CompEngineering/blob/master/book.pdf, 2021.\n",
    "\n",
    "5. <div id=\"IPCC2021\"></div> **V. Masson-Delmotte, P. Zhai, A. Pirani, S. L. Connors, C. Pean, S. Berger, N. Caud, Y. Chen, L. Goldfarb, M. I. Gomis, M. Huang, K. Leitzell, E. Lonnoy, J. B. R. Matthews, T. K. Maycock, T. Waterfield, O. Yelekci, R. Yu and B. Z. (eds.)**.  Climate Change 2021: the Physical Science Basis. Contribution of Working Group I to the Sixth Assessment Report of the Intergovernmental Panel on Climate Change, *Cambridge University Press. In Press.*, 2021.\n",
    "\n",
    "6. <div id=\"thyng2016true\"></div> **K. M. Thyng, C. A. Greene, R. D. Hetland, H. M. Zimmerle and S. F. DiMarco**.  True Colors of Oceanography: Guidelines for Effective and Accurate Colormap Selection, *Oceanography*, 29(3), pp. 9-13, 2016.\n",
    "\n",
    "7. <div id=\"noerdlinger2007melting\"></div> **P. D. Noerdlinger and K. R. Brower**.  The Melting of Floating Ice Raises the Ocean Level, *Geophysical Journal International*, 170(1), pp. 145-150, 2007.\n",
    "\n",
    "8. <div id=\"margossianad\"></div> **Margossian CC**. A review of automatic differentiation and its efficient implementation. *Wiley interdisciplinary reviews: data mining and knowledge discovery*, 9(4), e1305. https://arxiv.org/pdf/1811.05031"
   ]
  },
  {
   "cell_type": "markdown",
   "id": "b99eb24b",
   "metadata": {},
   "source": []
  }
 ],
 "metadata": {
  "kernelspec": {
   "display_name": "base",
   "language": "python",
   "name": "python3"
  },
  "language_info": {
   "codemirror_mode": {
    "name": "ipython",
    "version": 3
   },
   "file_extension": ".py",
   "mimetype": "text/x-python",
   "name": "python",
   "nbconvert_exporter": "python",
   "pygments_lexer": "ipython3",
   "version": "3.12.5"
  }
 },
 "nbformat": 4,
 "nbformat_minor": 5
}
